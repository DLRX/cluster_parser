{
 "cells": [
  {
   "cell_type": "markdown",
   "id": "760d3ec3",
   "metadata": {},
   "source": [
    "## Bienvenue, sur la pipeline du projet : Filtration des clusters."
   ]
  },
  {
   "cell_type": "markdown",
   "id": "143d09f5",
   "metadata": {},
   "source": [
    "Les différentes cellules de code vous guideront dans l'utilisation de ce GitHub à travers plusieurs exemples... <br>\n",
    "Je remercie Juliana pour m'avoir permis d'effectuer ce stage à la station biologique de roscoff, \n",
    "ainsi que toute l'équipe cyanorak,<br>  pour nous avoir autorisé à manipuler les données de cyano. "
   ]
  },
  {
   "cell_type": "code",
   "execution_count": 3,
   "id": "40f1b418",
   "metadata": {},
   "outputs": [
    {
     "name": "stderr",
     "output_type": "stream",
     "text": [
      "Traceback (most recent call last):\n",
      "  File \"c:\\Users\\dodol\\Documents\\GitHub\\cluster_parser\\main\\ck_parser.py\", line 98, in <module>\n",
      "    main()\n",
      "  File \"c:\\Users\\dodol\\Documents\\GitHub\\cluster_parser\\main\\ck_parser.py\", line 73, in main\n",
      "    list_f = [f for f in os.listdir(os.path.abspath(folder_fasta)) if os.path.isfile(os.path.join(folder_fasta, f))]\n",
      "                         ^^^^^^^^^^^^^^^^^^^^^^^^^^^^^^^^^^^^^^^^^\n",
      "FileNotFoundError: [WinError 3] Le chemin d’accès spécifié est introuvable: 'c:\\\\Users\\\\dodol\\\\Documents\\\\GitHub\\\\cluster_parser\\\\main\\\\example\\\\data'\n"
     ]
    }
   ],
   "source": [
    "!python ck_parser.py \\\n",
    "-i \".\\example\\data\" \\\n",
    "-o \".\\example\\output\\data_saved.csv\" \\\n",
    "-k \"10\""
   ]
  },
  {
   "cell_type": "markdown",
   "id": "c56ccfc8",
   "metadata": {},
   "source": []
  }
 ],
 "metadata": {
  "kernelspec": {
   "display_name": "base",
   "language": "python",
   "name": "python3"
  },
  "language_info": {
   "codemirror_mode": {
    "name": "ipython",
    "version": 3
   },
   "file_extension": ".py",
   "mimetype": "text/x-python",
   "name": "python",
   "nbconvert_exporter": "python",
   "pygments_lexer": "ipython3",
   "version": "3.12.7"
  }
 },
 "nbformat": 4,
 "nbformat_minor": 5
}
