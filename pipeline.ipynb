{
 "cells": [
  {
   "cell_type": "markdown",
   "id": "760d3ec3",
   "metadata": {},
   "source": [
    "## Bienvenue, sur la pipeline du projet : Filtration des clusters."
   ]
  },
  {
   "cell_type": "markdown",
   "id": "143d09f5",
   "metadata": {},
   "source": [
    "Les différentes cellules de code vous guideront dans l'utilisation de ce GitHub à travers plusieurs exemples... <br>\n",
    "Je remercie Juliana pour m'avoir permis d'effectuer ce stage à la station biologique de roscoff, \n",
    "ainsi que toute l'équipe cyanorak,<br>  pour nous avoir autorisé à manipuler les données de cyano. "
   ]
  },
  {
   "cell_type": "markdown",
   "id": "9c024a41",
   "metadata": {},
   "source": [
    "**`ck_parser.py`** permet d'obtenir un tableau contenant 1 ligne par cluster contenant, les informations type (nombre de sequences, taille moyenne, ecart-type, min, max, et un % des séquences contenant un mot-clé - dans notre example \"10\")\n",
    "\n",
    "input :\n",
    "- l'adresse du dossier contenant les fichiers multiFasta des clusters\n",
    "- l'adresse où le csv va être enregistré\n",
    "- (facultatif) un mot-clé recherché - par défault : 'hypothetical'"
   ]
  },
  {
   "cell_type": "code",
   "execution_count": 4,
   "id": "40f1b418",
   "metadata": {},
   "outputs": [
    {
     "name": "stdout",
     "output_type": "stream",
     "text": [
      "File is saved to c:\\Users\\dodol\\Documents\\GitHub\\cluster_parser\\example\\output\\data_saved.csv\n"
     ]
    },
    {
     "name": "stderr",
     "output_type": "stream",
     "text": [
      "\n",
      "  0%|          | 0/10 [00:00<?, ?it/s]\n",
      "100%|██████████| 10/10 [00:00<00:00, 4947.86it/s]\n"
     ]
    }
   ],
   "source": [
    "!python main/ck_parser.py \\\n",
    "-i \".\\example\\data\" \\\n",
    "-o \".\\example\\output\\data_saved.csv\" \\\n",
    "-k \"10\""
   ]
  },
  {
   "cell_type": "code",
   "execution_count": 23,
   "id": "152dbd29",
   "metadata": {},
   "outputs": [
    {
     "data": {
      "text/html": [
       "<div>\n",
       "<style scoped>\n",
       "    .dataframe tbody tr th:only-of-type {\n",
       "        vertical-align: middle;\n",
       "    }\n",
       "\n",
       "    .dataframe tbody tr th {\n",
       "        vertical-align: top;\n",
       "    }\n",
       "\n",
       "    .dataframe thead th {\n",
       "        text-align: right;\n",
       "    }\n",
       "</style>\n",
       "<table border=\"1\" class=\"dataframe\">\n",
       "  <thead>\n",
       "    <tr style=\"text-align: right;\">\n",
       "      <th></th>\n",
       "      <th>ClusterNumber</th>\n",
       "      <th>n</th>\n",
       "      <th>mean</th>\n",
       "      <th>std</th>\n",
       "      <th>min</th>\n",
       "      <th>max</th>\n",
       "      <th>%_keyword=10</th>\n",
       "    </tr>\n",
       "  </thead>\n",
       "  <tbody>\n",
       "    <tr>\n",
       "      <th>0</th>\n",
       "      <td>fake_1.fasta</td>\n",
       "      <td>71</td>\n",
       "      <td>224.338</td>\n",
       "      <td>97.603</td>\n",
       "      <td>46</td>\n",
       "      <td>399</td>\n",
       "      <td>1.408</td>\n",
       "    </tr>\n",
       "    <tr>\n",
       "      <th>1</th>\n",
       "      <td>fake_10.fasta</td>\n",
       "      <td>29</td>\n",
       "      <td>233.517</td>\n",
       "      <td>99.436</td>\n",
       "      <td>48</td>\n",
       "      <td>393</td>\n",
       "      <td>3.448</td>\n",
       "    </tr>\n",
       "    <tr>\n",
       "      <th>2</th>\n",
       "      <td>fake_2.fasta</td>\n",
       "      <td>29</td>\n",
       "      <td>243.966</td>\n",
       "      <td>96.618</td>\n",
       "      <td>45</td>\n",
       "      <td>391</td>\n",
       "      <td>3.448</td>\n",
       "    </tr>\n",
       "    <tr>\n",
       "      <th>3</th>\n",
       "      <td>fake_3.fasta</td>\n",
       "      <td>95</td>\n",
       "      <td>218.242</td>\n",
       "      <td>102.195</td>\n",
       "      <td>45</td>\n",
       "      <td>395</td>\n",
       "      <td>1.053</td>\n",
       "    </tr>\n",
       "    <tr>\n",
       "      <th>4</th>\n",
       "      <td>fake_4.fasta</td>\n",
       "      <td>45</td>\n",
       "      <td>225.356</td>\n",
       "      <td>92.271</td>\n",
       "      <td>70</td>\n",
       "      <td>397</td>\n",
       "      <td>2.222</td>\n",
       "    </tr>\n",
       "  </tbody>\n",
       "</table>\n",
       "</div>"
      ],
      "text/plain": [
       "   ClusterNumber   n     mean      std  min  max   %_keyword=10\n",
       "0   fake_1.fasta  71  224.338   97.603   46  399          1.408\n",
       "1  fake_10.fasta  29  233.517   99.436   48  393          3.448\n",
       "2   fake_2.fasta  29  243.966   96.618   45  391          3.448\n",
       "3   fake_3.fasta  95  218.242  102.195   45  395          1.053\n",
       "4   fake_4.fasta  45  225.356   92.271   70  397          2.222"
      ]
     },
     "execution_count": 23,
     "metadata": {},
     "output_type": "execute_result"
    }
   ],
   "source": [
    "import pandas as pd\n",
    "df = pd.read_csv(r'.\\example\\output\\data_saved.csv', index_col=False)\n",
    "df.head()\n"
   ]
  },
  {
   "cell_type": "markdown",
   "id": "c56ccfc8",
   "metadata": {},
   "source": [
    "!python main/ck_score_aln.py \\\n",
    "-i  \\\n",
    "-o  "
   ]
  }
 ],
 "metadata": {
  "kernelspec": {
   "display_name": "base",
   "language": "python",
   "name": "python3"
  },
  "language_info": {
   "codemirror_mode": {
    "name": "ipython",
    "version": 3
   },
   "file_extension": ".py",
   "mimetype": "text/x-python",
   "name": "python",
   "nbconvert_exporter": "python",
   "pygments_lexer": "ipython3",
   "version": "3.12.7"
  }
 },
 "nbformat": 4,
 "nbformat_minor": 5
}
